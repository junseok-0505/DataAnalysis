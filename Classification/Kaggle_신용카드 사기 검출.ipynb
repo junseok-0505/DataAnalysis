{
 "cells": [
  {
   "cell_type": "code",
   "execution_count": 1,
   "id": "6112e160-4c64-422e-bde1-bf3602736dfd",
   "metadata": {},
   "outputs": [],
   "source": [
    "# ! pip install imbalanced-learn\n",
    "# ! pip install lightgbm"
   ]
  },
  {
   "cell_type": "code",
   "execution_count": 2,
   "id": "27a992ed-8727-4599-89d8-338361af8e3a",
   "metadata": {},
   "outputs": [],
   "source": [
    "import os\n",
    "import pandas as pd\n",
    "import numpy as np\n",
    "import matplotlib.pyplot as plt\n",
    "import seaborn as sns\n",
    "import time\n",
    "import datetime\n",
    "import warnings\n",
    "\n",
    "from imblearn.over_sampling import SMOTE\n",
    "from sklearn.model_selection import train_test_split\n",
    "from sklearn.preprocessing import StandardScaler\n",
    "from sklearn.linear_model import LogisticRegression\n",
    "from lightgbm import LGBMClassifier\n",
    "from sklearn.tree import DecisionTreeClassifier\n",
    "from sklearn.ensemble import RandomForestClassifier\n",
    "from sklearn.metrics import accuracy_score, precision_score, recall_score, confusion_matrix, f1_score, roc_curve\n",
    "\n",
    "\n",
    "\n",
    "warnings.filterwarnings('ignore')\n",
    "%matplotlib inline"
   ]
  },
  {
   "cell_type": "code",
   "execution_count": 3,
   "id": "01add63f-55b6-44f2-81bd-2b86957bacfd",
   "metadata": {},
   "outputs": [],
   "source": [
    "notebook = 'lab'\n",
    "if notebook == 'gram':\n",
    "    path_dir = os.chdir('E:\\me\\공부\\머신러닝\\파머완\\분류')\n",
    "else:\n",
    "    path_dir = os.chdir('D:\\me\\공부\\머신러닝\\파머완\\분류')"
   ]
  },
  {
   "cell_type": "markdown",
   "id": "23da0006-5037-42d0-99d1-44f295c73493",
   "metadata": {},
   "source": [
    "# 데이터 호출"
   ]
  },
  {
   "cell_type": "code",
   "execution_count": 4,
   "id": "5a952d53-6088-4b9e-bd8d-d7bfeb269944",
   "metadata": {},
   "outputs": [
    {
     "data": {
      "text/html": [
       "<div>\n",
       "<style scoped>\n",
       "    .dataframe tbody tr th:only-of-type {\n",
       "        vertical-align: middle;\n",
       "    }\n",
       "\n",
       "    .dataframe tbody tr th {\n",
       "        vertical-align: top;\n",
       "    }\n",
       "\n",
       "    .dataframe thead th {\n",
       "        text-align: right;\n",
       "    }\n",
       "</style>\n",
       "<table border=\"1\" class=\"dataframe\">\n",
       "  <thead>\n",
       "    <tr style=\"text-align: right;\">\n",
       "      <th></th>\n",
       "      <th>Time</th>\n",
       "      <th>V1</th>\n",
       "      <th>V2</th>\n",
       "      <th>V3</th>\n",
       "      <th>V4</th>\n",
       "      <th>V5</th>\n",
       "      <th>V6</th>\n",
       "      <th>V7</th>\n",
       "      <th>V8</th>\n",
       "      <th>V9</th>\n",
       "      <th>...</th>\n",
       "      <th>V21</th>\n",
       "      <th>V22</th>\n",
       "      <th>V23</th>\n",
       "      <th>V24</th>\n",
       "      <th>V25</th>\n",
       "      <th>V26</th>\n",
       "      <th>V27</th>\n",
       "      <th>V28</th>\n",
       "      <th>Amount</th>\n",
       "      <th>Class</th>\n",
       "    </tr>\n",
       "  </thead>\n",
       "  <tbody>\n",
       "    <tr>\n",
       "      <th>0</th>\n",
       "      <td>0.0</td>\n",
       "      <td>-1.359807</td>\n",
       "      <td>-0.072781</td>\n",
       "      <td>2.536347</td>\n",
       "      <td>1.378155</td>\n",
       "      <td>-0.338321</td>\n",
       "      <td>0.462388</td>\n",
       "      <td>0.239599</td>\n",
       "      <td>0.098698</td>\n",
       "      <td>0.363787</td>\n",
       "      <td>...</td>\n",
       "      <td>-0.018307</td>\n",
       "      <td>0.277838</td>\n",
       "      <td>-0.110474</td>\n",
       "      <td>0.066928</td>\n",
       "      <td>0.128539</td>\n",
       "      <td>-0.189115</td>\n",
       "      <td>0.133558</td>\n",
       "      <td>-0.021053</td>\n",
       "      <td>149.62</td>\n",
       "      <td>0</td>\n",
       "    </tr>\n",
       "    <tr>\n",
       "      <th>1</th>\n",
       "      <td>0.0</td>\n",
       "      <td>1.191857</td>\n",
       "      <td>0.266151</td>\n",
       "      <td>0.166480</td>\n",
       "      <td>0.448154</td>\n",
       "      <td>0.060018</td>\n",
       "      <td>-0.082361</td>\n",
       "      <td>-0.078803</td>\n",
       "      <td>0.085102</td>\n",
       "      <td>-0.255425</td>\n",
       "      <td>...</td>\n",
       "      <td>-0.225775</td>\n",
       "      <td>-0.638672</td>\n",
       "      <td>0.101288</td>\n",
       "      <td>-0.339846</td>\n",
       "      <td>0.167170</td>\n",
       "      <td>0.125895</td>\n",
       "      <td>-0.008983</td>\n",
       "      <td>0.014724</td>\n",
       "      <td>2.69</td>\n",
       "      <td>0</td>\n",
       "    </tr>\n",
       "    <tr>\n",
       "      <th>2</th>\n",
       "      <td>1.0</td>\n",
       "      <td>-1.358354</td>\n",
       "      <td>-1.340163</td>\n",
       "      <td>1.773209</td>\n",
       "      <td>0.379780</td>\n",
       "      <td>-0.503198</td>\n",
       "      <td>1.800499</td>\n",
       "      <td>0.791461</td>\n",
       "      <td>0.247676</td>\n",
       "      <td>-1.514654</td>\n",
       "      <td>...</td>\n",
       "      <td>0.247998</td>\n",
       "      <td>0.771679</td>\n",
       "      <td>0.909412</td>\n",
       "      <td>-0.689281</td>\n",
       "      <td>-0.327642</td>\n",
       "      <td>-0.139097</td>\n",
       "      <td>-0.055353</td>\n",
       "      <td>-0.059752</td>\n",
       "      <td>378.66</td>\n",
       "      <td>0</td>\n",
       "    </tr>\n",
       "  </tbody>\n",
       "</table>\n",
       "<p>3 rows × 31 columns</p>\n",
       "</div>"
      ],
      "text/plain": [
       "   Time        V1        V2        V3        V4        V5        V6        V7  \\\n",
       "0   0.0 -1.359807 -0.072781  2.536347  1.378155 -0.338321  0.462388  0.239599   \n",
       "1   0.0  1.191857  0.266151  0.166480  0.448154  0.060018 -0.082361 -0.078803   \n",
       "2   1.0 -1.358354 -1.340163  1.773209  0.379780 -0.503198  1.800499  0.791461   \n",
       "\n",
       "         V8        V9  ...       V21       V22       V23       V24       V25  \\\n",
       "0  0.098698  0.363787  ... -0.018307  0.277838 -0.110474  0.066928  0.128539   \n",
       "1  0.085102 -0.255425  ... -0.225775 -0.638672  0.101288 -0.339846  0.167170   \n",
       "2  0.247676 -1.514654  ...  0.247998  0.771679  0.909412 -0.689281 -0.327642   \n",
       "\n",
       "        V26       V27       V28  Amount  Class  \n",
       "0 -0.189115  0.133558 -0.021053  149.62      0  \n",
       "1  0.125895 -0.008983  0.014724    2.69      0  \n",
       "2 -0.139097 -0.055353 -0.059752  378.66      0  \n",
       "\n",
       "[3 rows x 31 columns]"
      ]
     },
     "execution_count": 4,
     "metadata": {},
     "output_type": "execute_result"
    }
   ],
   "source": [
    "card_df = pd.read_csv('creditcard.csv')\n",
    "card_df.head(3)"
   ]
  },
  {
   "cell_type": "markdown",
   "id": "3b8b76e5-c220-4dca-990d-479f1dae7bb5",
   "metadata": {},
   "source": [
    "# 데이터 탐색"
   ]
  },
  {
   "cell_type": "code",
   "execution_count": 5,
   "id": "3d2f2f9f-338b-4f96-9d56-73c3a8fa9862",
   "metadata": {},
   "outputs": [
    {
     "name": "stdout",
     "output_type": "stream",
     "text": [
      "<class 'pandas.core.frame.DataFrame'>\n",
      "RangeIndex: 284807 entries, 0 to 284806\n",
      "Data columns (total 31 columns):\n",
      " #   Column  Non-Null Count   Dtype  \n",
      "---  ------  --------------   -----  \n",
      " 0   Time    284807 non-null  float64\n",
      " 1   V1      284807 non-null  float64\n",
      " 2   V2      284807 non-null  float64\n",
      " 3   V3      284807 non-null  float64\n",
      " 4   V4      284807 non-null  float64\n",
      " 5   V5      284807 non-null  float64\n",
      " 6   V6      284807 non-null  float64\n",
      " 7   V7      284807 non-null  float64\n",
      " 8   V8      284807 non-null  float64\n",
      " 9   V9      284807 non-null  float64\n",
      " 10  V10     284807 non-null  float64\n",
      " 11  V11     284807 non-null  float64\n",
      " 12  V12     284807 non-null  float64\n",
      " 13  V13     284807 non-null  float64\n",
      " 14  V14     284807 non-null  float64\n",
      " 15  V15     284807 non-null  float64\n",
      " 16  V16     284807 non-null  float64\n",
      " 17  V17     284807 non-null  float64\n",
      " 18  V18     284807 non-null  float64\n",
      " 19  V19     284807 non-null  float64\n",
      " 20  V20     284807 non-null  float64\n",
      " 21  V21     284807 non-null  float64\n",
      " 22  V22     284807 non-null  float64\n",
      " 23  V23     284807 non-null  float64\n",
      " 24  V24     284807 non-null  float64\n",
      " 25  V25     284807 non-null  float64\n",
      " 26  V26     284807 non-null  float64\n",
      " 27  V27     284807 non-null  float64\n",
      " 28  V28     284807 non-null  float64\n",
      " 29  Amount  284807 non-null  float64\n",
      " 30  Class   284807 non-null  int64  \n",
      "dtypes: float64(30), int64(1)\n",
      "memory usage: 67.4 MB\n"
     ]
    }
   ],
   "source": [
    "card_df.info()"
   ]
  },
  {
   "cell_type": "code",
   "execution_count": 6,
   "id": "d189a7f3-2d3b-4f66-9f19-877fc10e0281",
   "metadata": {},
   "outputs": [
    {
     "data": {
      "text/html": [
       "<div>\n",
       "<style scoped>\n",
       "    .dataframe tbody tr th:only-of-type {\n",
       "        vertical-align: middle;\n",
       "    }\n",
       "\n",
       "    .dataframe tbody tr th {\n",
       "        vertical-align: top;\n",
       "    }\n",
       "\n",
       "    .dataframe thead th {\n",
       "        text-align: right;\n",
       "    }\n",
       "</style>\n",
       "<table border=\"1\" class=\"dataframe\">\n",
       "  <thead>\n",
       "    <tr style=\"text-align: right;\">\n",
       "      <th></th>\n",
       "      <th>Time</th>\n",
       "      <th>V1</th>\n",
       "      <th>V2</th>\n",
       "      <th>V3</th>\n",
       "      <th>V4</th>\n",
       "      <th>V5</th>\n",
       "      <th>V6</th>\n",
       "      <th>V7</th>\n",
       "      <th>V8</th>\n",
       "      <th>V9</th>\n",
       "      <th>...</th>\n",
       "      <th>V21</th>\n",
       "      <th>V22</th>\n",
       "      <th>V23</th>\n",
       "      <th>V24</th>\n",
       "      <th>V25</th>\n",
       "      <th>V26</th>\n",
       "      <th>V27</th>\n",
       "      <th>V28</th>\n",
       "      <th>Amount</th>\n",
       "      <th>Class</th>\n",
       "    </tr>\n",
       "  </thead>\n",
       "  <tbody>\n",
       "    <tr>\n",
       "      <th>count</th>\n",
       "      <td>284807.000000</td>\n",
       "      <td>2.848070e+05</td>\n",
       "      <td>2.848070e+05</td>\n",
       "      <td>2.848070e+05</td>\n",
       "      <td>2.848070e+05</td>\n",
       "      <td>2.848070e+05</td>\n",
       "      <td>2.848070e+05</td>\n",
       "      <td>2.848070e+05</td>\n",
       "      <td>2.848070e+05</td>\n",
       "      <td>2.848070e+05</td>\n",
       "      <td>...</td>\n",
       "      <td>2.848070e+05</td>\n",
       "      <td>2.848070e+05</td>\n",
       "      <td>2.848070e+05</td>\n",
       "      <td>2.848070e+05</td>\n",
       "      <td>2.848070e+05</td>\n",
       "      <td>2.848070e+05</td>\n",
       "      <td>2.848070e+05</td>\n",
       "      <td>2.848070e+05</td>\n",
       "      <td>284807.000000</td>\n",
       "      <td>284807.000000</td>\n",
       "    </tr>\n",
       "    <tr>\n",
       "      <th>mean</th>\n",
       "      <td>94813.859575</td>\n",
       "      <td>3.918649e-15</td>\n",
       "      <td>5.682686e-16</td>\n",
       "      <td>-8.761736e-15</td>\n",
       "      <td>2.811118e-15</td>\n",
       "      <td>-1.552103e-15</td>\n",
       "      <td>2.040130e-15</td>\n",
       "      <td>-1.698953e-15</td>\n",
       "      <td>-1.893285e-16</td>\n",
       "      <td>-3.147640e-15</td>\n",
       "      <td>...</td>\n",
       "      <td>1.473120e-16</td>\n",
       "      <td>8.042109e-16</td>\n",
       "      <td>5.282512e-16</td>\n",
       "      <td>4.456271e-15</td>\n",
       "      <td>1.426896e-15</td>\n",
       "      <td>1.701640e-15</td>\n",
       "      <td>-3.662252e-16</td>\n",
       "      <td>-1.217809e-16</td>\n",
       "      <td>88.349619</td>\n",
       "      <td>0.001727</td>\n",
       "    </tr>\n",
       "    <tr>\n",
       "      <th>std</th>\n",
       "      <td>47488.145955</td>\n",
       "      <td>1.958696e+00</td>\n",
       "      <td>1.651309e+00</td>\n",
       "      <td>1.516255e+00</td>\n",
       "      <td>1.415869e+00</td>\n",
       "      <td>1.380247e+00</td>\n",
       "      <td>1.332271e+00</td>\n",
       "      <td>1.237094e+00</td>\n",
       "      <td>1.194353e+00</td>\n",
       "      <td>1.098632e+00</td>\n",
       "      <td>...</td>\n",
       "      <td>7.345240e-01</td>\n",
       "      <td>7.257016e-01</td>\n",
       "      <td>6.244603e-01</td>\n",
       "      <td>6.056471e-01</td>\n",
       "      <td>5.212781e-01</td>\n",
       "      <td>4.822270e-01</td>\n",
       "      <td>4.036325e-01</td>\n",
       "      <td>3.300833e-01</td>\n",
       "      <td>250.120109</td>\n",
       "      <td>0.041527</td>\n",
       "    </tr>\n",
       "    <tr>\n",
       "      <th>min</th>\n",
       "      <td>0.000000</td>\n",
       "      <td>-5.640751e+01</td>\n",
       "      <td>-7.271573e+01</td>\n",
       "      <td>-4.832559e+01</td>\n",
       "      <td>-5.683171e+00</td>\n",
       "      <td>-1.137433e+02</td>\n",
       "      <td>-2.616051e+01</td>\n",
       "      <td>-4.355724e+01</td>\n",
       "      <td>-7.321672e+01</td>\n",
       "      <td>-1.343407e+01</td>\n",
       "      <td>...</td>\n",
       "      <td>-3.483038e+01</td>\n",
       "      <td>-1.093314e+01</td>\n",
       "      <td>-4.480774e+01</td>\n",
       "      <td>-2.836627e+00</td>\n",
       "      <td>-1.029540e+01</td>\n",
       "      <td>-2.604551e+00</td>\n",
       "      <td>-2.256568e+01</td>\n",
       "      <td>-1.543008e+01</td>\n",
       "      <td>0.000000</td>\n",
       "      <td>0.000000</td>\n",
       "    </tr>\n",
       "    <tr>\n",
       "      <th>25%</th>\n",
       "      <td>54201.500000</td>\n",
       "      <td>-9.203734e-01</td>\n",
       "      <td>-5.985499e-01</td>\n",
       "      <td>-8.903648e-01</td>\n",
       "      <td>-8.486401e-01</td>\n",
       "      <td>-6.915971e-01</td>\n",
       "      <td>-7.682956e-01</td>\n",
       "      <td>-5.540759e-01</td>\n",
       "      <td>-2.086297e-01</td>\n",
       "      <td>-6.430976e-01</td>\n",
       "      <td>...</td>\n",
       "      <td>-2.283949e-01</td>\n",
       "      <td>-5.423504e-01</td>\n",
       "      <td>-1.618463e-01</td>\n",
       "      <td>-3.545861e-01</td>\n",
       "      <td>-3.171451e-01</td>\n",
       "      <td>-3.269839e-01</td>\n",
       "      <td>-7.083953e-02</td>\n",
       "      <td>-5.295979e-02</td>\n",
       "      <td>5.600000</td>\n",
       "      <td>0.000000</td>\n",
       "    </tr>\n",
       "    <tr>\n",
       "      <th>50%</th>\n",
       "      <td>84692.000000</td>\n",
       "      <td>1.810880e-02</td>\n",
       "      <td>6.548556e-02</td>\n",
       "      <td>1.798463e-01</td>\n",
       "      <td>-1.984653e-02</td>\n",
       "      <td>-5.433583e-02</td>\n",
       "      <td>-2.741871e-01</td>\n",
       "      <td>4.010308e-02</td>\n",
       "      <td>2.235804e-02</td>\n",
       "      <td>-5.142873e-02</td>\n",
       "      <td>...</td>\n",
       "      <td>-2.945017e-02</td>\n",
       "      <td>6.781943e-03</td>\n",
       "      <td>-1.119293e-02</td>\n",
       "      <td>4.097606e-02</td>\n",
       "      <td>1.659350e-02</td>\n",
       "      <td>-5.213911e-02</td>\n",
       "      <td>1.342146e-03</td>\n",
       "      <td>1.124383e-02</td>\n",
       "      <td>22.000000</td>\n",
       "      <td>0.000000</td>\n",
       "    </tr>\n",
       "    <tr>\n",
       "      <th>75%</th>\n",
       "      <td>139320.500000</td>\n",
       "      <td>1.315642e+00</td>\n",
       "      <td>8.037239e-01</td>\n",
       "      <td>1.027196e+00</td>\n",
       "      <td>7.433413e-01</td>\n",
       "      <td>6.119264e-01</td>\n",
       "      <td>3.985649e-01</td>\n",
       "      <td>5.704361e-01</td>\n",
       "      <td>3.273459e-01</td>\n",
       "      <td>5.971390e-01</td>\n",
       "      <td>...</td>\n",
       "      <td>1.863772e-01</td>\n",
       "      <td>5.285536e-01</td>\n",
       "      <td>1.476421e-01</td>\n",
       "      <td>4.395266e-01</td>\n",
       "      <td>3.507156e-01</td>\n",
       "      <td>2.409522e-01</td>\n",
       "      <td>9.104512e-02</td>\n",
       "      <td>7.827995e-02</td>\n",
       "      <td>77.165000</td>\n",
       "      <td>0.000000</td>\n",
       "    </tr>\n",
       "    <tr>\n",
       "      <th>max</th>\n",
       "      <td>172792.000000</td>\n",
       "      <td>2.454930e+00</td>\n",
       "      <td>2.205773e+01</td>\n",
       "      <td>9.382558e+00</td>\n",
       "      <td>1.687534e+01</td>\n",
       "      <td>3.480167e+01</td>\n",
       "      <td>7.330163e+01</td>\n",
       "      <td>1.205895e+02</td>\n",
       "      <td>2.000721e+01</td>\n",
       "      <td>1.559499e+01</td>\n",
       "      <td>...</td>\n",
       "      <td>2.720284e+01</td>\n",
       "      <td>1.050309e+01</td>\n",
       "      <td>2.252841e+01</td>\n",
       "      <td>4.584549e+00</td>\n",
       "      <td>7.519589e+00</td>\n",
       "      <td>3.517346e+00</td>\n",
       "      <td>3.161220e+01</td>\n",
       "      <td>3.384781e+01</td>\n",
       "      <td>25691.160000</td>\n",
       "      <td>1.000000</td>\n",
       "    </tr>\n",
       "  </tbody>\n",
       "</table>\n",
       "<p>8 rows × 31 columns</p>\n",
       "</div>"
      ],
      "text/plain": [
       "                Time            V1            V2            V3            V4  \\\n",
       "count  284807.000000  2.848070e+05  2.848070e+05  2.848070e+05  2.848070e+05   \n",
       "mean    94813.859575  3.918649e-15  5.682686e-16 -8.761736e-15  2.811118e-15   \n",
       "std     47488.145955  1.958696e+00  1.651309e+00  1.516255e+00  1.415869e+00   \n",
       "min         0.000000 -5.640751e+01 -7.271573e+01 -4.832559e+01 -5.683171e+00   \n",
       "25%     54201.500000 -9.203734e-01 -5.985499e-01 -8.903648e-01 -8.486401e-01   \n",
       "50%     84692.000000  1.810880e-02  6.548556e-02  1.798463e-01 -1.984653e-02   \n",
       "75%    139320.500000  1.315642e+00  8.037239e-01  1.027196e+00  7.433413e-01   \n",
       "max    172792.000000  2.454930e+00  2.205773e+01  9.382558e+00  1.687534e+01   \n",
       "\n",
       "                 V5            V6            V7            V8            V9  \\\n",
       "count  2.848070e+05  2.848070e+05  2.848070e+05  2.848070e+05  2.848070e+05   \n",
       "mean  -1.552103e-15  2.040130e-15 -1.698953e-15 -1.893285e-16 -3.147640e-15   \n",
       "std    1.380247e+00  1.332271e+00  1.237094e+00  1.194353e+00  1.098632e+00   \n",
       "min   -1.137433e+02 -2.616051e+01 -4.355724e+01 -7.321672e+01 -1.343407e+01   \n",
       "25%   -6.915971e-01 -7.682956e-01 -5.540759e-01 -2.086297e-01 -6.430976e-01   \n",
       "50%   -5.433583e-02 -2.741871e-01  4.010308e-02  2.235804e-02 -5.142873e-02   \n",
       "75%    6.119264e-01  3.985649e-01  5.704361e-01  3.273459e-01  5.971390e-01   \n",
       "max    3.480167e+01  7.330163e+01  1.205895e+02  2.000721e+01  1.559499e+01   \n",
       "\n",
       "       ...           V21           V22           V23           V24  \\\n",
       "count  ...  2.848070e+05  2.848070e+05  2.848070e+05  2.848070e+05   \n",
       "mean   ...  1.473120e-16  8.042109e-16  5.282512e-16  4.456271e-15   \n",
       "std    ...  7.345240e-01  7.257016e-01  6.244603e-01  6.056471e-01   \n",
       "min    ... -3.483038e+01 -1.093314e+01 -4.480774e+01 -2.836627e+00   \n",
       "25%    ... -2.283949e-01 -5.423504e-01 -1.618463e-01 -3.545861e-01   \n",
       "50%    ... -2.945017e-02  6.781943e-03 -1.119293e-02  4.097606e-02   \n",
       "75%    ...  1.863772e-01  5.285536e-01  1.476421e-01  4.395266e-01   \n",
       "max    ...  2.720284e+01  1.050309e+01  2.252841e+01  4.584549e+00   \n",
       "\n",
       "                V25           V26           V27           V28         Amount  \\\n",
       "count  2.848070e+05  2.848070e+05  2.848070e+05  2.848070e+05  284807.000000   \n",
       "mean   1.426896e-15  1.701640e-15 -3.662252e-16 -1.217809e-16      88.349619   \n",
       "std    5.212781e-01  4.822270e-01  4.036325e-01  3.300833e-01     250.120109   \n",
       "min   -1.029540e+01 -2.604551e+00 -2.256568e+01 -1.543008e+01       0.000000   \n",
       "25%   -3.171451e-01 -3.269839e-01 -7.083953e-02 -5.295979e-02       5.600000   \n",
       "50%    1.659350e-02 -5.213911e-02  1.342146e-03  1.124383e-02      22.000000   \n",
       "75%    3.507156e-01  2.409522e-01  9.104512e-02  7.827995e-02      77.165000   \n",
       "max    7.519589e+00  3.517346e+00  3.161220e+01  3.384781e+01   25691.160000   \n",
       "\n",
       "               Class  \n",
       "count  284807.000000  \n",
       "mean        0.001727  \n",
       "std         0.041527  \n",
       "min         0.000000  \n",
       "25%         0.000000  \n",
       "50%         0.000000  \n",
       "75%         0.000000  \n",
       "max         1.000000  \n",
       "\n",
       "[8 rows x 31 columns]"
      ]
     },
     "execution_count": 6,
     "metadata": {},
     "output_type": "execute_result"
    }
   ],
   "source": [
    "card_df.describe()"
   ]
  },
  {
   "cell_type": "code",
   "execution_count": 7,
   "id": "7cef9294-10ac-475d-9974-003d9e1ef2a8",
   "metadata": {},
   "outputs": [
    {
     "name": "stdout",
     "output_type": "stream",
     "text": [
      "0    0.998273\n",
      "1    0.001727\n",
      "Name: Class, dtype: float64\n"
     ]
    }
   ],
   "source": [
    "print(card_df.Class.value_counts()/len(card_df))"
   ]
  },
  {
   "cell_type": "markdown",
   "id": "f598fe50-41d8-4aaf-a470-f2b2670ba6f1",
   "metadata": {},
   "source": [
    "# 데이터 분포 확인"
   ]
  },
  {
   "cell_type": "markdown",
   "id": "8243b0f1-6b20-4f7b-acdd-d2a0ee0f9439",
   "metadata": {},
   "source": [
    "## 데이터 scale 변환"
   ]
  },
  {
   "cell_type": "code",
   "execution_count": 8,
   "id": "e9ceaf52-d6df-45b7-b875-7d1399005680",
   "metadata": {},
   "outputs": [
    {
     "data": {
      "image/png": "[encoded data removed]",
      "text/plain": [
       "<Figure size 576x288 with 1 Axes>"
      ]
     },
     "metadata": {
      "needs_background": "light"
     },
     "output_type": "display_data"
    }
   ],
   "source": [
    "plt.figure(figsize=(8,4))\n",
    "plt.xticks(range(0,30000, 1000), rotation=60)\n",
    "sns.distplot(card_df['Amount'])\n",
    "plt.show()"
   ]
  },
  {
   "cell_type": "markdown",
   "id": "3ae3b680-98c9-4749-81fa-1c11ff5dd5e6",
   "metadata": {},
   "source": [
    "### 1. 표준화"
   ]
  },
  {
   "cell_type": "code",
   "execution_count": 9,
   "id": "aa3da26c-dfc7-4ee3-9d25-3ad2bd02de0e",
   "metadata": {},
   "outputs": [],
   "source": [
    "def ss_features_df(df = None):\n",
    "    '''표준화 함수'''\n",
    "    df_copy = df.copy()\n",
    "    scaler = StandardScaler()\n",
    "    amount_n = scaler.fit_transform(df_copy['Amount'].values.reshape(-1,1))\n",
    "    \n",
    "    # 변환된 Amount를 Amount_Scaled로 피처명 변경후 DF 맨앞 칼럼으로 입력\n",
    "    df_copy.insert(0, 'Amount_Scaled', amount_n)\n",
    "    df_copy.drop(['Amount'], axis=1, inplace=True)\n",
    "    return df_copy"
   ]
  },
  {
   "cell_type": "code",
   "execution_count": 10,
   "id": "cf30aa2c-87c2-4c6c-ae36-ec5b5e0f32ac",
   "metadata": {},
   "outputs": [],
   "source": [
    "stand_card = ss_features_df(card_df)"
   ]
  },
  {
   "cell_type": "code",
   "execution_count": 11,
   "id": "bd5936ed-6b16-4199-a4dc-676e52c2a7e7",
   "metadata": {},
   "outputs": [
    {
     "data": {
      "image/png": "[encoded data removed]",
      "text/plain": [
       "<Figure size 576x576 with 1 Axes>"
      ]
     },
     "metadata": {
      "needs_background": "light"
     },
     "output_type": "display_data"
    }
   ],
   "source": [
    "plt.figure(figsize=(8,8))\n",
    "sns.distplot(stand_card['Amount_Scaled'])\n",
    "plt.show()"
   ]
  },
  {
   "cell_type": "code",
   "execution_count": 12,
   "id": "b3cc1ab7-6387-430c-8cb9-bb2b5e1be91a",
   "metadata": {},
   "outputs": [
    {
     "data": {
      "text/plain": [
       "102.36224270928423"
      ]
     },
     "execution_count": 12,
     "metadata": {},
     "output_type": "execute_result"
    }
   ],
   "source": [
    "max(stand_card['Amount_Scaled'])"
   ]
  },
  {
   "cell_type": "code",
   "execution_count": 13,
   "id": "3b8bedee-3ede-4d4d-b592-7e76a75e3703",
   "metadata": {},
   "outputs": [
    {
     "name": "stdout",
     "output_type": "stream",
     "text": [
      "Amount_Standard 최대값 102.36224270928423\n",
      "Amount_Standard 최소값 -0.35322939296682354\n"
     ]
    }
   ],
   "source": [
    "print(f'Amount_Standard 최대값', max(stand_card['Amount_Scaled']))\n",
    "print(f'Amount_Standard 최소값', min(stand_card['Amount_Scaled']))"
   ]
  },
  {
   "cell_type": "markdown",
   "id": "a6db1bb0-404d-405c-ac06-dd04a7c2b58e",
   "metadata": {},
   "source": [
    "### 2. log변환"
   ]
  },
  {
   "cell_type": "code",
   "execution_count": 14,
   "id": "e59ad75b-1fa1-4404-a10f-b11338eebb07",
   "metadata": {},
   "outputs": [],
   "source": [
    "def log_scaled(df=None):\n",
    "    df_copy = df.copy()\n",
    "    amount_n = np.log1p(df_copy['Amount'])\n",
    "    df_copy.insert(0, 'Amount_Scaled', amount_n)\n",
    "    df_copy.drop(['Amount'], axis=1, inplace=True)\n",
    "    return df_copy "
   ]
  },
  {
   "cell_type": "code",
   "execution_count": 15,
   "id": "e1095b78-1da3-4c92-897a-08c60aa75216",
   "metadata": {},
   "outputs": [],
   "source": [
    "log_card = log_scaled(card_df)"
   ]
  },
  {
   "cell_type": "code",
   "execution_count": 16,
   "id": "8cdbe29a-0b2e-43ff-ae04-a4ee3b3bfad4",
   "metadata": {},
   "outputs": [
    {
     "data": {
      "text/plain": [
       "<AxesSubplot:xlabel='Amount_Scaled', ylabel='Density'>"
      ]
     },
     "execution_count": 16,
     "metadata": {},
     "output_type": "execute_result"
    },
    {
     "data": {
      "image/png": "[encoded data removed]",
      "text/plain": [
       "<Figure size 720x576 with 1 Axes>"
      ]
     },
     "metadata": {
      "needs_background": "light"
     },
     "output_type": "display_data"
    }
   ],
   "source": [
    "plt.figure(figsize=(10,8))\n",
    "sns.distplot(log_card['Amount_Scaled'])"
   ]
  },
  {
   "cell_type": "code",
   "execution_count": 17,
   "id": "4a376d76-6de9-4808-8f3b-fa18f48646d1",
   "metadata": {},
   "outputs": [
    {
     "name": "stdout",
     "output_type": "stream",
     "text": [
      "Amount_Standard 최대값 10.153941165977784\n",
      "Amount_Standard 최소값 0.0\n"
     ]
    }
   ],
   "source": [
    "print(f'Amount_Standard 최대값', max(log_card['Amount_Scaled']))\n",
    "print(f'Amount_Standard 최소값', min(log_card['Amount_Scaled']))"
   ]
  },
  {
   "cell_type": "markdown",
   "id": "ed668cb0-acca-4337-8986-7bac316201b3",
   "metadata": {},
   "source": [
    "## 이상치 확인"
   ]
  },
  {
   "cell_type": "code",
   "execution_count": 18,
   "id": "8ee07675-a1bc-4065-b02c-ba032c362402",
   "metadata": {},
   "outputs": [
    {
     "data": {
      "image/png": "[encoded data removed]",
      "text/plain": [
       "<Figure size 648x648 with 2 Axes>"
      ]
     },
     "metadata": {
      "needs_background": "light"
     },
     "output_type": "display_data"
    }
   ],
   "source": [
    "plt.figure(figsize=(9, 9))\n",
    "corr = card_df.corr()\n",
    "sns.heatmap(corr, cmap='RdBu')\n",
    "plt.show()"
   ]
  },
  {
   "cell_type": "code",
   "execution_count": 19,
   "id": "158cf3e0-9944-401e-b616-da8e67c2fcb5",
   "metadata": {},
   "outputs": [],
   "source": [
    "def outlier(df=None, column = None, weight = 1.5):\n",
    "    df_copy = df.copy()\n",
    "    fraud = df_copy[df_copy['Class']==1][column]\n",
    "    \n",
    "    quantile_25 = np.percentile(fraud.values, 25)\n",
    "    quantile_75 = np.percentile(fraud.values, 75)\n",
    "    \n",
    "    iqr = quantile_75 - quantile_25\n",
    "    iqr_weight = iqr*weight\n",
    "    lowest_val = quantile_25 - iqr_weight\n",
    "    highest_val = quantile_75 + iqr_weight\n",
    "    \n",
    "    outlier_index = fraud[(fraud < lowest_val) | (fraud > highest_val)].index\n",
    "    print(f'이상치 인덱스: {outlier_index}')\n",
    "    \n",
    "    df_copy.drop(outlier_index, axis=0, inplace=True)\n",
    "    return df_copy"
   ]
  },
  {
   "cell_type": "code",
   "execution_count": 20,
   "id": "b1ad9e72-dcd7-4dd7-a007-f07c43773d12",
   "metadata": {},
   "outputs": [
    {
     "name": "stdout",
     "output_type": "stream",
     "text": [
      "이상치 인덱스: Int64Index([8296, 8615, 9035, 9252], dtype='int64')\n"
     ]
    }
   ],
   "source": [
    "card_copy = outlier(log_card, 'V14')"
   ]
  },
  {
   "cell_type": "markdown",
   "id": "ed534c49-d526-4f0c-92b2-90f7526a7ae0",
   "metadata": {},
   "source": [
    "# 데이터 분할"
   ]
  },
  {
   "cell_type": "code",
   "execution_count": 21,
   "id": "e540f595-1fad-4886-b0c7-1fe0ba8fcbba",
   "metadata": {},
   "outputs": [],
   "source": [
    "x_features = card_df.iloc[:, :-1]\n",
    "y_label = card_df.iloc[:,-1]\n",
    "\n",
    "x_train, x_test, y_train, y_test = train_test_split(x_features, y_label, test_size=0.2, random_state=824, stratify = y_label)"
   ]
  },
  {
   "cell_type": "code",
   "execution_count": 22,
   "id": "0888d66e-d431-4a33-96fd-dda8d5fb89a4",
   "metadata": {},
   "outputs": [
    {
     "name": "stdout",
     "output_type": "stream",
     "text": [
      "0    0.998271\n",
      "1    0.001729\n",
      "Name: Class, dtype: float64\n",
      "\n",
      " ######################################## \n",
      "\n",
      "0    0.99828\n",
      "1    0.00172\n",
      "Name: Class, dtype: float64\n"
     ]
    }
   ],
   "source": [
    "print(y_train.value_counts()/len(y_train))\n",
    "print('\\n','#'*40,'\\n')\n",
    "print(y_test.value_counts()/len(y_test))"
   ]
  },
  {
   "cell_type": "markdown",
   "id": "2ffcb32d-bb14-46c9-8aef-e96f0cecffde",
   "metadata": {},
   "source": [
    "# SMOTE over sampling"
   ]
  },
  {
   "cell_type": "markdown",
   "id": "ef076a45-9056-41c9-b0e0-79027b5030d0",
   "metadata": {},
   "source": [
    "반드시 학습 데이터 세트만 오버 샘플링해야 함."
   ]
  },
  {
   "cell_type": "code",
   "execution_count": 23,
   "id": "d95c8711-edbf-444e-b240-4d0a34fc35b5",
   "metadata": {},
   "outputs": [
    {
     "name": "stdout",
     "output_type": "stream",
     "text": [
      "SMOTE 적용 전 학습용 피처/레이블 데이터 세트: (227845, 30) (227845,)\n",
      "SMOTE 적용 후 학습용 피처/레이블 데이터 세트: (454902, 30) (454902,)\n",
      "SMOTE 적용 후 레이블 값 분포:\n",
      " 0    227451\n",
      "1    227451\n",
      "Name: Class, dtype: int64\n"
     ]
    }
   ],
   "source": [
    "smote = SMOTE(random_state=824)\n",
    "x_train_over, y_train_over = smote.fit_resample(x_train, y_train)\n",
    "\n",
    "print('SMOTE 적용 전 학습용 피처/레이블 데이터 세트:', x_train.shape, y_train.shape)\n",
    "print('SMOTE 적용 후 학습용 피처/레이블 데이터 세트:', x_train_over.shape, y_train_over.shape)\n",
    "print('SMOTE 적용 후 레이블 값 분포:\\n', pd.Series(y_train_over).value_counts())"
   ]
  },
  {
   "cell_type": "markdown",
   "id": "ba7185ba-4cb9-4af1-a4a4-a121d6fee338",
   "metadata": {},
   "source": [
    "# 모델링"
   ]
  },
  {
   "cell_type": "code",
   "execution_count": 24,
   "id": "2f66fd77-9fc7-4bc9-a327-bbb2f496ac89",
   "metadata": {},
   "outputs": [],
   "source": [
    "lr_clf = LogisticRegression(random_state=824)\n",
    "dt_clf = DecisionTreeClassifier(random_state=824)\n",
    "rf_clf = RandomForestClassifier(n_estimators=500, random_state=824)\n",
    "lgb_clf = LGBMClassifier(n_estimators=1000, num_leaves=64, n_jobs=-1, boost_from_average=False, random_state=824) # boost_from_average: 데이터 불균형일때 사용"
   ]
  },
  {
   "cell_type": "code",
   "execution_count": 25,
   "id": "25b458f7-4566-4fa5-bf53-07e3fb065d28",
   "metadata": {},
   "outputs": [],
   "source": [
    "def modeling(x_train, x_test, y_train, y_test):\n",
    "    ''' 데이터 학습 '''\n",
    "    \n",
    "    lr_clf.fit(x_train, y_train)\n",
    "    lr_pred = lr_clf.predict(x_test)\n",
    "    \n",
    "    dt_clf.fit(x_train, y_train)\n",
    "    dt_pred = dt_clf.predict(x_test)\n",
    "    \n",
    "    rf_clf.fit(x_train, y_train)\n",
    "    rf_pred = rf_clf.predict(x_test)\n",
    "    \n",
    "    lgb_clf.fit(x_train, y_train, early_stopping_rounds=100, eval_metric = 'auc', eval_set = [(x_test, y_test)])\n",
    "    lgb_pred = lgb_clf.predict(x_test)\n",
    "    \n",
    "    return lr_pred, dt_pred, rf_pred, lgb_pred"
   ]
  },
  {
   "cell_type": "markdown",
   "id": "38dfa497-9363-4b58-8cea-4df2b7b6f7a3",
   "metadata": {},
   "source": [
    "# 평가"
   ]
  },
  {
   "cell_type": "code",
   "execution_count": 26,
   "id": "82bca5c1-ae93-458a-b19b-5c48f03c7fc9",
   "metadata": {},
   "outputs": [],
   "source": [
    "def testing(x_train, x_test, y_train, y_test):\n",
    "    '''모델 평가'''\n",
    "    start_time = time.time()\n",
    "    lr_pred, dt_pred, rf_pred, lgb_pred = modeling(x_train, x_test, y_train, y_test)\n",
    "    results = [lr_pred, dt_pred, rf_pred, lgb_pred]\n",
    "    df = pd.DataFrame(columns = ['accuracy', 'precision', 'recall', 'f1'])\n",
    "    for result in results:\n",
    "        confusion = confusion_matrix(y_test, result)\n",
    "        accuracy = accuracy_score(y_test, result)\n",
    "        precision = precision_score(y_test, result)\n",
    "        recall = recall_score(y_test, result)\n",
    "        f1 = f1_score(y_test, result)\n",
    "        print('오차 행렬')\n",
    "        print(confusion)\n",
    "        print(f'정확도: {accuracy:.4f}, 정밀도: {precision:.4f}, 재현율: {recall:.4f}, F1: {f1:.4f}')\n",
    "        test_df = pd.DataFrame([[accuracy, precision, recall, f1]], columns = ['accuracy', 'precision', 'recall', 'f1'])\n",
    "        df=df.append(test_df, ignore_index=True)\n",
    "    df.index = ['Logistic Regression', 'Decision Tree', 'Random Forest', 'LightGBM']\n",
    "    sec = time.time() - start_time\n",
    "    times = str(datetime.timedelta(seconds = sec)).split('.')\n",
    "    times = times[0]\n",
    "    print(f'총 소요시간 {times}')\n",
    "    return df"
   ]
  },
  {
   "cell_type": "code",
   "execution_count": 27,
   "id": "5be9e9a4",
   "metadata": {},
   "outputs": [
    {
     "name": "stdout",
     "output_type": "stream",
     "text": [
      "[1]\tvalid_0's auc: 0.965611\tvalid_0's binary_logloss: 0.602908\n",
      "Training until validation scores don't improve for 100 rounds\n",
      "[2]\tvalid_0's auc: 0.973322\tvalid_0's binary_logloss: 0.528781\n",
      "[3]\tvalid_0's auc: 0.97309\tvalid_0's binary_logloss: 0.466845\n",
      "[4]\tvalid_0's auc: 0.966298\tvalid_0's binary_logloss: 0.413962\n",
      "[5]\tvalid_0's auc: 0.965944\tvalid_0's binary_logloss: 0.368912\n",
      "[6]\tvalid_0's auc: 0.965935\tvalid_0's binary_logloss: 0.329475\n",
      "[7]\tvalid_0's auc: 0.966118\tvalid_0's binary_logloss: 0.295228\n",
      "[8]\tvalid_0's auc: 0.965887\tvalid_0's binary_logloss: 0.265497\n",
      "[9]\tvalid_0's auc: 0.973359\tvalid_0's binary_logloss: 0.239184\n",
      "[10]\tvalid_0's auc: 0.973011\tvalid_0's binary_logloss: 0.215777\n",
      "[11]\tvalid_0's auc: 0.976104\tvalid_0's binary_logloss: 0.195222\n",
      "[12]\tvalid_0's auc: 0.976178\tvalid_0's binary_logloss: 0.176808\n",
      "[13]\tvalid_0's auc: 0.979315\tvalid_0's binary_logloss: 0.160512\n",
      "[14]\tvalid_0's auc: 0.978646\tvalid_0's binary_logloss: 0.145883\n",
      "[15]\tvalid_0's auc: 0.978883\tvalid_0's binary_logloss: 0.132862\n",
      "[16]\tvalid_0's auc: 0.980218\tvalid_0's binary_logloss: 0.121303\n",
      "[17]\tvalid_0's auc: 0.98082\tvalid_0's binary_logloss: 0.110799\n",
      "[18]\tvalid_0's auc: 0.981014\tvalid_0's binary_logloss: 0.101172\n",
      "[19]\tvalid_0's auc: 0.981823\tvalid_0's binary_logloss: 0.0926694\n",
      "[20]\tvalid_0's auc: 0.982077\tvalid_0's binary_logloss: 0.0849791\n",
      "[21]\tvalid_0's auc: 0.982053\tvalid_0's binary_logloss: 0.0779022\n",
      "[22]\tvalid_0's auc: 0.981849\tvalid_0's binary_logloss: 0.0715799\n",
      "[23]\tvalid_0's auc: 0.981476\tvalid_0's binary_logloss: 0.0658237\n",
      "[24]\tvalid_0's auc: 0.983926\tvalid_0's binary_logloss: 0.0605638\n",
      "[25]\tvalid_0's auc: 0.983883\tvalid_0's binary_logloss: 0.0557278\n",
      "[26]\tvalid_0's auc: 0.983841\tvalid_0's binary_logloss: 0.0514264\n",
      "[27]\tvalid_0's auc: 0.983912\tvalid_0's binary_logloss: 0.0475207\n",
      "[28]\tvalid_0's auc: 0.983727\tvalid_0's binary_logloss: 0.043883\n",
      "[29]\tvalid_0's auc: 0.983414\tvalid_0's binary_logloss: 0.0405833\n",
      "[30]\tvalid_0's auc: 0.982936\tvalid_0's binary_logloss: 0.0376243\n",
      "[31]\tvalid_0's auc: 0.982539\tvalid_0's binary_logloss: 0.034856\n",
      "[32]\tvalid_0's auc: 0.98208\tvalid_0's binary_logloss: 0.0323343\n",
      "[33]\tvalid_0's auc: 0.981486\tvalid_0's binary_logloss: 0.0300378\n",
      "[34]\tvalid_0's auc: 0.981339\tvalid_0's binary_logloss: 0.0279422\n",
      "[35]\tvalid_0's auc: 0.981235\tvalid_0's binary_logloss: 0.0260437\n",
      "[36]\tvalid_0's auc: 0.980825\tvalid_0's binary_logloss: 0.0242621\n",
      "[37]\tvalid_0's auc: 0.980702\tvalid_0's binary_logloss: 0.0226971\n",
      "[38]\tvalid_0's auc: 0.980655\tvalid_0's binary_logloss: 0.0212449\n",
      "[39]\tvalid_0's auc: 0.980388\tvalid_0's binary_logloss: 0.0199197\n",
      "[40]\tvalid_0's auc: 0.980333\tvalid_0's binary_logloss: 0.0187034\n",
      "[41]\tvalid_0's auc: 0.979942\tvalid_0's binary_logloss: 0.0175637\n",
      "[42]\tvalid_0's auc: 0.979486\tvalid_0's binary_logloss: 0.0165301\n",
      "[43]\tvalid_0's auc: 0.979329\tvalid_0's binary_logloss: 0.0155361\n",
      "[44]\tvalid_0's auc: 0.978685\tvalid_0's binary_logloss: 0.014639\n",
      "[45]\tvalid_0's auc: 0.9786\tvalid_0's binary_logloss: 0.0137972\n",
      "[46]\tvalid_0's auc: 0.978386\tvalid_0's binary_logloss: 0.0129759\n",
      "[47]\tvalid_0's auc: 0.977852\tvalid_0's binary_logloss: 0.0122681\n",
      "[48]\tvalid_0's auc: 0.977676\tvalid_0's binary_logloss: 0.0116265\n",
      "[49]\tvalid_0's auc: 0.977334\tvalid_0's binary_logloss: 0.0110205\n",
      "[50]\tvalid_0's auc: 0.977116\tvalid_0's binary_logloss: 0.0104933\n",
      "[51]\tvalid_0's auc: 0.976548\tvalid_0's binary_logloss: 0.0100001\n",
      "[52]\tvalid_0's auc: 0.976659\tvalid_0's binary_logloss: 0.00952074\n",
      "[53]\tvalid_0's auc: 0.976045\tvalid_0's binary_logloss: 0.00908818\n",
      "[54]\tvalid_0's auc: 0.976271\tvalid_0's binary_logloss: 0.00869933\n",
      "[55]\tvalid_0's auc: 0.976065\tvalid_0's binary_logloss: 0.00825915\n",
      "[56]\tvalid_0's auc: 0.977455\tvalid_0's binary_logloss: 0.00758951\n",
      "[57]\tvalid_0's auc: 0.978227\tvalid_0's binary_logloss: 0.00730125\n",
      "[58]\tvalid_0's auc: 0.979227\tvalid_0's binary_logloss: 0.00699552\n",
      "[59]\tvalid_0's auc: 0.980005\tvalid_0's binary_logloss: 0.00668721\n",
      "[60]\tvalid_0's auc: 0.980015\tvalid_0's binary_logloss: 0.00644799\n",
      "[61]\tvalid_0's auc: 0.97944\tvalid_0's binary_logloss: 0.00619792\n",
      "[62]\tvalid_0's auc: 0.979501\tvalid_0's binary_logloss: 0.00597997\n",
      "[63]\tvalid_0's auc: 0.979529\tvalid_0's binary_logloss: 0.0057278\n",
      "[64]\tvalid_0's auc: 0.979382\tvalid_0's binary_logloss: 0.00554509\n",
      "[65]\tvalid_0's auc: 0.979298\tvalid_0's binary_logloss: 0.00538518\n",
      "[66]\tvalid_0's auc: 0.979009\tvalid_0's binary_logloss: 0.00523351\n",
      "[67]\tvalid_0's auc: 0.981599\tvalid_0's binary_logloss: 0.00495042\n",
      "[68]\tvalid_0's auc: 0.982115\tvalid_0's binary_logloss: 0.00481709\n",
      "[69]\tvalid_0's auc: 0.983354\tvalid_0's binary_logloss: 0.00463758\n",
      "[70]\tvalid_0's auc: 0.983129\tvalid_0's binary_logloss: 0.00441148\n",
      "[71]\tvalid_0's auc: 0.983615\tvalid_0's binary_logloss: 0.00428588\n",
      "[72]\tvalid_0's auc: 0.98415\tvalid_0's binary_logloss: 0.00417277\n",
      "[73]\tvalid_0's auc: 0.984388\tvalid_0's binary_logloss: 0.00407713\n",
      "[74]\tvalid_0's auc: 0.984277\tvalid_0's binary_logloss: 0.00392355\n",
      "[75]\tvalid_0's auc: 0.984614\tvalid_0's binary_logloss: 0.00380698\n",
      "[76]\tvalid_0's auc: 0.984488\tvalid_0's binary_logloss: 0.00373382\n",
      "[77]\tvalid_0's auc: 0.98468\tvalid_0's binary_logloss: 0.0036566\n",
      "[78]\tvalid_0's auc: 0.984521\tvalid_0's binary_logloss: 0.00359647\n",
      "[79]\tvalid_0's auc: 0.984362\tvalid_0's binary_logloss: 0.00354121\n",
      "[80]\tvalid_0's auc: 0.984003\tvalid_0's binary_logloss: 0.00353822\n",
      "[81]\tvalid_0's auc: 0.983727\tvalid_0's binary_logloss: 0.00349353\n",
      "[82]\tvalid_0's auc: 0.983528\tvalid_0's binary_logloss: 0.0034388\n",
      "[83]\tvalid_0's auc: 0.983202\tvalid_0's binary_logloss: 0.00339564\n",
      "[84]\tvalid_0's auc: 0.982873\tvalid_0's binary_logloss: 0.00335982\n",
      "[85]\tvalid_0's auc: 0.982584\tvalid_0's binary_logloss: 0.00331843\n",
      "[86]\tvalid_0's auc: 0.982712\tvalid_0's binary_logloss: 0.00328612\n",
      "[87]\tvalid_0's auc: 0.982489\tvalid_0's binary_logloss: 0.00325529\n",
      "[88]\tvalid_0's auc: 0.982283\tvalid_0's binary_logloss: 0.0032008\n",
      "[89]\tvalid_0's auc: 0.982261\tvalid_0's binary_logloss: 0.00316854\n",
      "[90]\tvalid_0's auc: 0.981967\tvalid_0's binary_logloss: 0.00313203\n",
      "[91]\tvalid_0's auc: 0.981589\tvalid_0's binary_logloss: 0.00310514\n",
      "[92]\tvalid_0's auc: 0.981458\tvalid_0's binary_logloss: 0.00307202\n",
      "[93]\tvalid_0's auc: 0.981724\tvalid_0's binary_logloss: 0.00303882\n",
      "[94]\tvalid_0's auc: 0.981647\tvalid_0's binary_logloss: 0.00301221\n",
      "[95]\tvalid_0's auc: 0.981392\tvalid_0's binary_logloss: 0.00298982\n",
      "[96]\tvalid_0's auc: 0.981289\tvalid_0's binary_logloss: 0.00296603\n",
      "[97]\tvalid_0's auc: 0.981641\tvalid_0's binary_logloss: 0.00293095\n",
      "[98]\tvalid_0's auc: 0.982011\tvalid_0's binary_logloss: 0.00291247\n",
      "[99]\tvalid_0's auc: 0.982071\tvalid_0's binary_logloss: 0.00289712\n",
      "[100]\tvalid_0's auc: 0.982042\tvalid_0's binary_logloss: 0.00287713\n",
      "[101]\tvalid_0's auc: 0.982015\tvalid_0's binary_logloss: 0.00285596\n",
      "[102]\tvalid_0's auc: 0.981994\tvalid_0's binary_logloss: 0.00285365\n",
      "[103]\tvalid_0's auc: 0.981781\tvalid_0's binary_logloss: 0.00283834\n",
      "[104]\tvalid_0's auc: 0.981566\tvalid_0's binary_logloss: 0.00282363\n",
      "[105]\tvalid_0's auc: 0.981791\tvalid_0's binary_logloss: 0.00280948\n",
      "[106]\tvalid_0's auc: 0.982144\tvalid_0's binary_logloss: 0.00278217\n",
      "[107]\tvalid_0's auc: 0.982673\tvalid_0's binary_logloss: 0.00277962\n",
      "[108]\tvalid_0's auc: 0.982636\tvalid_0's binary_logloss: 0.00277462\n",
      "[109]\tvalid_0's auc: 0.982384\tvalid_0's binary_logloss: 0.00277717\n",
      "[110]\tvalid_0's auc: 0.982977\tvalid_0's binary_logloss: 0.00276687\n",
      "[111]\tvalid_0's auc: 0.983275\tvalid_0's binary_logloss: 0.00275017\n",
      "[112]\tvalid_0's auc: 0.984008\tvalid_0's binary_logloss: 0.00274644\n",
      "[113]\tvalid_0's auc: 0.984177\tvalid_0's binary_logloss: 0.00273705\n",
      "[114]\tvalid_0's auc: 0.984325\tvalid_0's binary_logloss: 0.0027255\n",
      "[115]\tvalid_0's auc: 0.984076\tvalid_0's binary_logloss: 0.00272566\n",
      "[116]\tvalid_0's auc: 0.984294\tvalid_0's binary_logloss: 0.00272555\n",
      "[117]\tvalid_0's auc: 0.984155\tvalid_0's binary_logloss: 0.00271438\n",
      "[118]\tvalid_0's auc: 0.984689\tvalid_0's binary_logloss: 0.00270523\n",
      "[119]\tvalid_0's auc: 0.984424\tvalid_0's binary_logloss: 0.00271009\n",
      "[120]\tvalid_0's auc: 0.984379\tvalid_0's binary_logloss: 0.00271473\n",
      "[121]\tvalid_0's auc: 0.984024\tvalid_0's binary_logloss: 0.00271545\n",
      "[122]\tvalid_0's auc: 0.984207\tvalid_0's binary_logloss: 0.00271555\n",
      "[123]\tvalid_0's auc: 0.984488\tvalid_0's binary_logloss: 0.00270512\n",
      "[124]\tvalid_0's auc: 0.984694\tvalid_0's binary_logloss: 0.00269687\n",
      "[125]\tvalid_0's auc: 0.984451\tvalid_0's binary_logloss: 0.0026968\n"
     ]
    },
    {
     "name": "stdout",
     "output_type": "stream",
     "text": [
      "[126]\tvalid_0's auc: 0.984181\tvalid_0's binary_logloss: 0.00270017\n",
      "[127]\tvalid_0's auc: 0.984217\tvalid_0's binary_logloss: 0.00269573\n",
      "[128]\tvalid_0's auc: 0.984363\tvalid_0's binary_logloss: 0.0026864\n",
      "[129]\tvalid_0's auc: 0.984541\tvalid_0's binary_logloss: 0.00268616\n",
      "[130]\tvalid_0's auc: 0.984314\tvalid_0's binary_logloss: 0.00270021\n",
      "[131]\tvalid_0's auc: 0.984009\tvalid_0's binary_logloss: 0.00270722\n",
      "[132]\tvalid_0's auc: 0.984003\tvalid_0's binary_logloss: 0.00271074\n",
      "[133]\tvalid_0's auc: 0.983754\tvalid_0's binary_logloss: 0.00271038\n",
      "[134]\tvalid_0's auc: 0.983522\tvalid_0's binary_logloss: 0.00272414\n",
      "[135]\tvalid_0's auc: 0.983449\tvalid_0's binary_logloss: 0.0027386\n",
      "[136]\tvalid_0's auc: 0.983778\tvalid_0's binary_logloss: 0.00273456\n",
      "[137]\tvalid_0's auc: 0.983884\tvalid_0's binary_logloss: 0.00272844\n",
      "[138]\tvalid_0's auc: 0.983706\tvalid_0's binary_logloss: 0.00273165\n",
      "[139]\tvalid_0's auc: 0.983595\tvalid_0's binary_logloss: 0.00273822\n",
      "[140]\tvalid_0's auc: 0.983706\tvalid_0's binary_logloss: 0.00275368\n",
      "[141]\tvalid_0's auc: 0.983653\tvalid_0's binary_logloss: 0.00275435\n",
      "[142]\tvalid_0's auc: 0.983567\tvalid_0's binary_logloss: 0.00275578\n",
      "[143]\tvalid_0's auc: 0.983723\tvalid_0's binary_logloss: 0.00275489\n",
      "[144]\tvalid_0's auc: 0.983642\tvalid_0's binary_logloss: 0.00276377\n",
      "[145]\tvalid_0's auc: 0.984259\tvalid_0's binary_logloss: 0.0027641\n",
      "[146]\tvalid_0's auc: 0.984691\tvalid_0's binary_logloss: 0.0027812\n",
      "[147]\tvalid_0's auc: 0.98444\tvalid_0's binary_logloss: 0.00279199\n",
      "[148]\tvalid_0's auc: 0.984353\tvalid_0's binary_logloss: 0.00279749\n",
      "[149]\tvalid_0's auc: 0.984028\tvalid_0's binary_logloss: 0.00281188\n",
      "[150]\tvalid_0's auc: 0.984453\tvalid_0's binary_logloss: 0.0028263\n",
      "[151]\tvalid_0's auc: 0.98429\tvalid_0's binary_logloss: 0.00284193\n",
      "[152]\tvalid_0's auc: 0.984164\tvalid_0's binary_logloss: 0.00284915\n",
      "[153]\tvalid_0's auc: 0.983916\tvalid_0's binary_logloss: 0.00286206\n",
      "[154]\tvalid_0's auc: 0.983998\tvalid_0's binary_logloss: 0.00286951\n",
      "[155]\tvalid_0's auc: 0.98369\tvalid_0's binary_logloss: 0.00288434\n",
      "[156]\tvalid_0's auc: 0.984229\tvalid_0's binary_logloss: 0.00288738\n",
      "[157]\tvalid_0's auc: 0.984363\tvalid_0's binary_logloss: 0.00288962\n",
      "[158]\tvalid_0's auc: 0.984182\tvalid_0's binary_logloss: 0.00289838\n",
      "[159]\tvalid_0's auc: 0.983955\tvalid_0's binary_logloss: 0.00291282\n",
      "[160]\tvalid_0's auc: 0.983705\tvalid_0's binary_logloss: 0.00292117\n",
      "[161]\tvalid_0's auc: 0.984042\tvalid_0's binary_logloss: 0.00292711\n",
      "[162]\tvalid_0's auc: 0.983879\tvalid_0's binary_logloss: 0.00292802\n",
      "[163]\tvalid_0's auc: 0.983716\tvalid_0's binary_logloss: 0.00293539\n",
      "[164]\tvalid_0's auc: 0.983515\tvalid_0's binary_logloss: 0.00294114\n",
      "[165]\tvalid_0's auc: 0.983302\tvalid_0's binary_logloss: 0.002952\n",
      "[166]\tvalid_0's auc: 0.983606\tvalid_0's binary_logloss: 0.00295886\n",
      "[167]\tvalid_0's auc: 0.983414\tvalid_0's binary_logloss: 0.00297803\n",
      "[168]\tvalid_0's auc: 0.983315\tvalid_0's binary_logloss: 0.00298874\n",
      "[169]\tvalid_0's auc: 0.983504\tvalid_0's binary_logloss: 0.00300181\n",
      "[170]\tvalid_0's auc: 0.983606\tvalid_0's binary_logloss: 0.00300458\n",
      "[171]\tvalid_0's auc: 0.983246\tvalid_0's binary_logloss: 0.00301968\n",
      "[172]\tvalid_0's auc: 0.983118\tvalid_0's binary_logloss: 0.0030249\n",
      "[173]\tvalid_0's auc: 0.983106\tvalid_0's binary_logloss: 0.00303489\n",
      "[174]\tvalid_0's auc: 0.983082\tvalid_0's binary_logloss: 0.00303716\n",
      "[175]\tvalid_0's auc: 0.983262\tvalid_0's binary_logloss: 0.00304631\n",
      "[176]\tvalid_0's auc: 0.982995\tvalid_0's binary_logloss: 0.00305179\n",
      "[177]\tvalid_0's auc: 0.982968\tvalid_0's binary_logloss: 0.00306264\n",
      "[178]\tvalid_0's auc: 0.982972\tvalid_0's binary_logloss: 0.00307359\n",
      "[179]\tvalid_0's auc: 0.982874\tvalid_0's binary_logloss: 0.00308742\n",
      "[180]\tvalid_0's auc: 0.98275\tvalid_0's binary_logloss: 0.00309834\n",
      "[181]\tvalid_0's auc: 0.983103\tvalid_0's binary_logloss: 0.00309929\n",
      "[182]\tvalid_0's auc: 0.982932\tvalid_0's binary_logloss: 0.00311433\n",
      "[183]\tvalid_0's auc: 0.982728\tvalid_0's binary_logloss: 0.00312677\n",
      "[184]\tvalid_0's auc: 0.982572\tvalid_0's binary_logloss: 0.00313447\n",
      "[185]\tvalid_0's auc: 0.982862\tvalid_0's binary_logloss: 0.0031377\n",
      "[186]\tvalid_0's auc: 0.982702\tvalid_0's binary_logloss: 0.00314061\n",
      "[187]\tvalid_0's auc: 0.983479\tvalid_0's binary_logloss: 0.00314579\n",
      "[188]\tvalid_0's auc: 0.983924\tvalid_0's binary_logloss: 0.00315382\n",
      "[189]\tvalid_0's auc: 0.984069\tvalid_0's binary_logloss: 0.00316535\n",
      "[190]\tvalid_0's auc: 0.984284\tvalid_0's binary_logloss: 0.00316142\n",
      "[191]\tvalid_0's auc: 0.98416\tvalid_0's binary_logloss: 0.00317534\n",
      "[192]\tvalid_0's auc: 0.984177\tvalid_0's binary_logloss: 0.00319099\n",
      "[193]\tvalid_0's auc: 0.984495\tvalid_0's binary_logloss: 0.00320023\n",
      "[194]\tvalid_0's auc: 0.984294\tvalid_0's binary_logloss: 0.00320821\n",
      "[195]\tvalid_0's auc: 0.984627\tvalid_0's binary_logloss: 0.00322248\n",
      "[196]\tvalid_0's auc: 0.985083\tvalid_0's binary_logloss: 0.00322703\n",
      "[197]\tvalid_0's auc: 0.985771\tvalid_0's binary_logloss: 0.00322942\n",
      "[198]\tvalid_0's auc: 0.985645\tvalid_0's binary_logloss: 0.00324537\n",
      "[199]\tvalid_0's auc: 0.985505\tvalid_0's binary_logloss: 0.00325892\n",
      "[200]\tvalid_0's auc: 0.985968\tvalid_0's binary_logloss: 0.00325848\n",
      "[201]\tvalid_0's auc: 0.985795\tvalid_0's binary_logloss: 0.0032615\n",
      "[202]\tvalid_0's auc: 0.985527\tvalid_0's binary_logloss: 0.00328313\n",
      "[203]\tvalid_0's auc: 0.985721\tvalid_0's binary_logloss: 0.00328266\n",
      "[204]\tvalid_0's auc: 0.986247\tvalid_0's binary_logloss: 0.00328641\n",
      "[205]\tvalid_0's auc: 0.986395\tvalid_0's binary_logloss: 0.00328945\n",
      "[206]\tvalid_0's auc: 0.986164\tvalid_0's binary_logloss: 0.00329445\n",
      "[207]\tvalid_0's auc: 0.985951\tvalid_0's binary_logloss: 0.00330732\n",
      "[208]\tvalid_0's auc: 0.985752\tvalid_0's binary_logloss: 0.00331526\n",
      "[209]\tvalid_0's auc: 0.986264\tvalid_0's binary_logloss: 0.0033181\n",
      "[210]\tvalid_0's auc: 0.986116\tvalid_0's binary_logloss: 0.00333517\n",
      "[211]\tvalid_0's auc: 0.986077\tvalid_0's binary_logloss: 0.00334157\n",
      "[212]\tvalid_0's auc: 0.986179\tvalid_0's binary_logloss: 0.00335299\n",
      "[213]\tvalid_0's auc: 0.985967\tvalid_0's binary_logloss: 0.00336289\n",
      "[214]\tvalid_0's auc: 0.985895\tvalid_0's binary_logloss: 0.00338557\n",
      "[215]\tvalid_0's auc: 0.986157\tvalid_0's binary_logloss: 0.0033915\n",
      "[216]\tvalid_0's auc: 0.985952\tvalid_0's binary_logloss: 0.00340623\n",
      "[217]\tvalid_0's auc: 0.985758\tvalid_0's binary_logloss: 0.00341046\n",
      "[218]\tvalid_0's auc: 0.985764\tvalid_0's binary_logloss: 0.00341988\n",
      "[219]\tvalid_0's auc: 0.98556\tvalid_0's binary_logloss: 0.00342829\n",
      "[220]\tvalid_0's auc: 0.985385\tvalid_0's binary_logloss: 0.00343519\n",
      "[221]\tvalid_0's auc: 0.985322\tvalid_0's binary_logloss: 0.00344445\n",
      "[222]\tvalid_0's auc: 0.985395\tvalid_0's binary_logloss: 0.00345702\n",
      "[223]\tvalid_0's auc: 0.985395\tvalid_0's binary_logloss: 0.00346522\n",
      "[224]\tvalid_0's auc: 0.985202\tvalid_0's binary_logloss: 0.00348063\n",
      "[225]\tvalid_0's auc: 0.985085\tvalid_0's binary_logloss: 0.00349098\n",
      "[226]\tvalid_0's auc: 0.984874\tvalid_0's binary_logloss: 0.00349886\n",
      "[227]\tvalid_0's auc: 0.984758\tvalid_0's binary_logloss: 0.00350656\n",
      "[228]\tvalid_0's auc: 0.984929\tvalid_0's binary_logloss: 0.00351372\n",
      "[229]\tvalid_0's auc: 0.985427\tvalid_0's binary_logloss: 0.00352419\n",
      "Early stopping, best iteration is:\n",
      "[129]\tvalid_0's auc: 0.984541\tvalid_0's binary_logloss: 0.00268616\n",
      "오차 행렬\n",
      "[[55738  1126]\n",
      " [    9    89]]\n",
      "정확도: 0.9801, 정밀도: 0.0733, 재현율: 0.9082, F1: 0.1356\n",
      "오차 행렬\n",
      "[[56759   105]\n",
      " [   17    81]]\n",
      "정확도: 0.9979, 정밀도: 0.4355, 재현율: 0.8265, F1: 0.5704\n",
      "오차 행렬\n",
      "[[56856     8]\n",
      " [   17    81]]\n",
      "정확도: 0.9996, 정밀도: 0.9101, 재현율: 0.8265, F1: 0.8663\n",
      "오차 행렬\n",
      "[[56857     7]\n",
      " [   17    81]]\n",
      "정확도: 0.9996, 정밀도: 0.9205, 재현율: 0.8265, F1: 0.8710\n",
      "총 소요시간 0:23:14\n"
     ]
    }
   ],
   "source": [
    "test_result = testing(x_train_over, x_test, y_train_over, y_test)"
   ]
  },
  {
   "cell_type": "code",
   "execution_count": 28,
   "id": "11f12ca4",
   "metadata": {},
   "outputs": [
    {
     "data": {
      "text/html": [
       "<div>\n",
       "<style scoped>\n",
       "    .dataframe tbody tr th:only-of-type {\n",
       "        vertical-align: middle;\n",
       "    }\n",
       "\n",
       "    .dataframe tbody tr th {\n",
       "        vertical-align: top;\n",
       "    }\n",
       "\n",
       "    .dataframe thead th {\n",
       "        text-align: right;\n",
       "    }\n",
       "</style>\n",
       "<table border=\"1\" class=\"dataframe\">\n",
       "  <thead>\n",
       "    <tr style=\"text-align: right;\">\n",
       "      <th></th>\n",
       "      <th>accuracy</th>\n",
       "      <th>precision</th>\n",
       "      <th>recall</th>\n",
       "      <th>f1</th>\n",
       "    </tr>\n",
       "  </thead>\n",
       "  <tbody>\n",
       "    <tr>\n",
       "      <th>Logistic Regression</th>\n",
       "      <td>0.980074</td>\n",
       "      <td>0.073251</td>\n",
       "      <td>0.908163</td>\n",
       "      <td>0.135567</td>\n",
       "    </tr>\n",
       "    <tr>\n",
       "      <th>Decision Tree</th>\n",
       "      <td>0.997858</td>\n",
       "      <td>0.435484</td>\n",
       "      <td>0.826531</td>\n",
       "      <td>0.570423</td>\n",
       "    </tr>\n",
       "    <tr>\n",
       "      <th>Random Forest</th>\n",
       "      <td>0.999561</td>\n",
       "      <td>0.910112</td>\n",
       "      <td>0.826531</td>\n",
       "      <td>0.866310</td>\n",
       "    </tr>\n",
       "    <tr>\n",
       "      <th>LightGBM</th>\n",
       "      <td>0.999579</td>\n",
       "      <td>0.920455</td>\n",
       "      <td>0.826531</td>\n",
       "      <td>0.870968</td>\n",
       "    </tr>\n",
       "  </tbody>\n",
       "</table>\n",
       "</div>"
      ],
      "text/plain": [
       "                     accuracy  precision    recall        f1\n",
       "Logistic Regression  0.980074   0.073251  0.908163  0.135567\n",
       "Decision Tree        0.997858   0.435484  0.826531  0.570423\n",
       "Random Forest        0.999561   0.910112  0.826531  0.866310\n",
       "LightGBM             0.999579   0.920455  0.826531  0.870968"
      ]
     },
     "execution_count": 28,
     "metadata": {},
     "output_type": "execute_result"
    }
   ],
   "source": [
    "test_result"
   ]
  }
 ],
 "metadata": {
  "kernelspec": {
   "display_name": "Python 3",
   "language": "python",
   "name": "python3"
  },
  "language_info": {
   "codemirror_mode": {
    "name": "ipython",
    "version": 3
   },
   "file_extension": ".py",
   "mimetype": "text/x-python",
   "name": "python",
   "nbconvert_exporter": "python",
   "pygments_lexer": "ipython3",
   "version": "3.8.8"
  }
 },
 "nbformat": 4,
 "nbformat_minor": 5
}
